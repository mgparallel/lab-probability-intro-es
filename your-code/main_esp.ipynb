{
 "cells": [
  {
   "cell_type": "markdown",
   "metadata": {},
   "source": [
    "# Probability"
   ]
  },
  {
   "cell_type": "markdown",
   "metadata": {},
   "source": [
    "## Reto 1\n",
    "Hay una caja con 10 bolas blancas, 12 bolas rojas y 8 bolas negras. Calcula la probabilidad de:\n",
    "* Sacar una bola blanca.\n",
    "* Sacar una bola blanca en la primera extracción y una bola negra en la segunda extracción sin reemplazar la primera.\n",
    "* Sacar una bola blanca en la primera extracción y una bola negra en la segunda extracción reemplazando la primera.\n",
    "* Sacar 3 bolas y que sean todas de diferentes colores."
   ]
  },
  {
   "cell_type": "code",
   "execution_count": 2,
   "metadata": {},
   "outputs": [
    {
     "name": "stdout",
     "output_type": "stream",
     "text": [
      "Probability of take one white ball is: 0.3333333333333333\n"
     ]
    }
   ],
   "source": [
    "def single_ball_possibility(single_ball, ball_list):\n",
    "    total = sum(ball_list.values())\n",
    "    return ball_list[single_ball]/total\n",
    "\n",
    "ball_list = {\n",
    "    \"white\" : 10, \n",
    "    \"red\" : 12, \n",
    "    \"black\" : 8\n",
    "}\n",
    "\n",
    "single_ball = \"white\"\n",
    "print(f\"Probability of take one white ball is: {single_ball_possibility(single_ball, ball_list)}\")\n"
   ]
  },
  {
   "cell_type": "code",
   "execution_count": 3,
   "metadata": {},
   "outputs": [
    {
     "name": "stdout",
     "output_type": "stream",
     "text": [
      "Possibility of taking a black ball after white ball is: 0.09195402298850575\n"
     ]
    }
   ],
   "source": [
    "# p(negra|blanco) = (p(blanco)/total) / total\n",
    "def black_on_white_possibility(ball1, ball2, ball_list):\n",
    "    total = sum(ball_list.values())\n",
    "    return (ball_list[ball1]/total) * (ball_list[ball2]/(total-1))\n",
    "\n",
    "ball1 = \"white\"\n",
    "ball2 = \"black\"\n",
    "print(f\"Possibility of taking a black ball after white ball is: {black_on_white_possibility(ball1, ball2, ball_list)}\")"
   ]
  },
  {
   "cell_type": "code",
   "execution_count": 4,
   "metadata": {},
   "outputs": [
    {
     "name": "stdout",
     "output_type": "stream",
     "text": [
      "Possibility of taking a black ball after white ball returning is: 0.08888888888888888\n"
     ]
    }
   ],
   "source": [
    "def black_white_replace(ball1, ball2, ball_list):\n",
    "    total = sum(ball_list.values())\n",
    "    return (ball_list[ball1]/total)*(ball_list[ball2]/total)\n",
    "\n",
    "ball1 = \"white\"\n",
    "ball2 = \"black\"\n",
    "print(f\"Possibility of taking a black ball after white ball returning is: {black_white_replace(ball1, ball2, ball_list)}\")"
   ]
  },
  {
   "cell_type": "code",
   "execution_count": 7,
   "metadata": {},
   "outputs": [
    {
     "name": "stdout",
     "output_type": "stream",
     "text": [
      "Possibility of ona ball of each group is: 0.23645320197044334\n"
     ]
    }
   ],
   "source": [
    "import math\n",
    "\n",
    "def possibility_one_of_each(num, ball_list):\n",
    "    total = sum(ball_list.values())\n",
    "    number_of_favorable_outcomes = math.comb(total, num)\n",
    "    total_number_of_outcome = ball_list[\"black\"]*ball_list[\"white\"]*ball_list[\"red\"]\n",
    "    \n",
    "    return total_number_of_outcome/number_of_favorable_outcomes\n",
    "\n",
    "print(f\"Possibility of ona ball of each group is: {possibility_one_of_each(3, ball_list)}\")"
   ]
  },
  {
   "cell_type": "markdown",
   "metadata": {},
   "source": [
    "## Reto 2\n",
    "\n",
    "Quieres ir de picnic el sábado. Odias la lluvia y quieres planificar tu fin de semana. Para ayudarte a tomar una decisión, recopilas los siguientes datos sobre los días lluviosos:\n",
    "\n",
    "* El 40% de todos los días están nublados.\n",
    "* Aproximadamente el 50% de los días nublados son lluviosos.\n",
    "* Aproximadamente el 20% de los días no nublados son lluviosos.\n",
    "\n",
    "¿Cuál es la probabilidad de que llueva el próximo sábado?"
   ]
  },
  {
   "cell_type": "code",
   "execution_count": 25,
   "metadata": {},
   "outputs": [
    {
     "name": "stdout",
     "output_type": "stream",
     "text": [
      "The possibility of rain on next Saturday is: 0.32\n"
     ]
    }
   ],
   "source": [
    "# nublado = A, no_nublado = B, lluvia = C, no_lluvia = D\n",
    "# P(A) = 0.4, P(B) = 0.6\n",
    "# P(C|A) = 0.5\n",
    "# P(C|B) = 0.2\n",
    "\n",
    "P_A = 0.4\n",
    "P_B = 0.6\n",
    "P_C_given_A = 0.5\n",
    "P_C_given_B = 0.2\n",
    "P_rainy = (P_C_given_A * P_A) + (P_C_given_B * P_B)\n",
    "\n",
    "print(f\"The possibility of rain on next Saturday is: {P_rainy}\")"
   ]
  },
  {
   "cell_type": "markdown",
   "metadata": {},
   "source": [
    "## Reto 3\n",
    "\n",
    "A y B son eventos de una probabilidad tal que \\(P(A) = 0.3\\), \\(P(B) = 0.6\\) y \\(P(A \\cap B) = 0.1\\)\n",
    "\n",
    "¿Cuáles de las siguientes afirmaciones son verdaderas?\n",
    "**SUGERENCIA: dibuja un gran diagrama de Venn a tu lado**\n",
    "* \\(P(\\overline{A}) = 0.7\\)\n",
    "* \\(P(A \\cup B) = 0.6\\)\n",
    "* \\(P(A \\cap \\overline{B}) = 0.2\\)\n",
    "* \\(P(A \\cup \\overline{A}) = 1\\)  \n",
    "* \\(P(A \\cap (B \\cup \\overline{B})) = 0.4\\)\n",
    "* \\(P(\\overline{A} \\cap \\overline{B}) = 0.3\\)\n",
    "* \\(P(\\overline{A \\cap B}) = 0.9\\)"
   ]
  },
  {
   "cell_type": "markdown",
   "metadata": {},
   "source": [
    "1. $P(\\overline{A})=0.7$   \n",
    "\n",
    "    (P_not_A)\n",
    "    True"
   ]
  },
  {
   "cell_type": "markdown",
   "metadata": {},
   "source": [
    "2. $P(A\\cup B)=0.3+0.6-0.3*0.6 = 0.72$\n",
    "\n",
    "    (P_A_or_B) False\n",
    "\n"
   ]
  },
  {
   "cell_type": "markdown",
   "metadata": {},
   "source": [
    "3. $(P(A \\cap \\overline{B}) = 0.3*(1-0.6) = 0.12$\n",
    "\n",
    "    (P_A_and_not_B) False"
   ]
  },
  {
   "cell_type": "markdown",
   "metadata": {},
   "source": [
    "4. $(P(A \\cup \\overline{A}) = 0.3 + (1-0.3) = 1$\n",
    "\n",
    "    (P_A_or_not_A) True"
   ]
  },
  {
   "cell_type": "markdown",
   "metadata": {},
   "source": [
    "5. $(P(A \\cap (B \\cup \\overline{B})) = 0.3 * 1 = 0.3$\n",
    "\n",
    "    (P_A_and_all) = (P_A) False"
   ]
  },
  {
   "cell_type": "markdown",
   "metadata": {},
   "source": [
    "6. $(P(\\overline{A} \\cap \\overline{B})) = 1-0.72=0.28$\n",
    "\n",
    "    (P_not_A_and_not_B) = P(not_A_or_B) False"
   ]
  },
  {
   "cell_type": "markdown",
   "metadata": {},
   "source": [
    "7. $(P(\\overline{A \\cap B})) = 1-(0.3*0.6) = 0.8200000000000001$\n",
    "\n",
    "    False"
   ]
  },
  {
   "cell_type": "markdown",
   "metadata": {},
   "source": [
    "## Reto 4\n",
    "\n",
    "* Si alguien viaja a China, la probabilidad de contraer Covid es del 1%\n",
    "* Si alguien viaja a Italia, la probabilidad de contraer Covid es del 20%\n",
    "\n",
    "Lanzo un dado con números 1, 2, 3, 4, 5, 6:\n",
    "* Si sale 1: Vuelo a Italia\n",
    "* Si no sale 1: Vuelo a China\n",
    "\n",
    "Durante mi viaje, contraje Covid. ¿Cuál es la probabilidad de que haya volado a China?"
   ]
  },
  {
   "cell_type": "code",
   "execution_count": 41,
   "metadata": {},
   "outputs": [
    {
     "name": "stdout",
     "output_type": "stream",
     "text": [
      "The chance of having tavelled to China while being covid-positive is:0.2\n"
     ]
    }
   ],
   "source": [
    "P_1_china = 0.01 \n",
    "P_1_Italia = 0.2\n",
    "P_china = 5/6\n",
    "P_italia = 1/6\n",
    "\n",
    "# P_viaje_china | 1 = \n",
    "# (P_1_china * P_china)/ P1\n",
    "\n",
    "chances = (0.01*5/6)/(0.01*5/6 + 0.2*1/6)\n",
    "print(f\"The chance of having tavelled to China while being covid-positive is:{chances}\")\n"
   ]
  },
  {
   "cell_type": "markdown",
   "metadata": {},
   "source": [
    "## BONUS\n",
    "\n",
    "Lanzas 2 dados. ¿Cuál es la probabilidad de que la suma de los números sea 7? ¿Y 8? ¿Y 9? Luego simula 10000 veces y dibuja un gráfico de conteo.\n",
    "\n",
    "tu explicación aquí"
   ]
  },
  {
   "cell_type": "code",
   "execution_count": 44,
   "metadata": {},
   "outputs": [
    {
     "name": "stdout",
     "output_type": "stream",
     "text": [
      "Possibility of getting a total of 7 is:0.16666666666666666\n",
      "Possibility of getting a total of 7 is:0.1388888888888889\n",
      "Possibility of getting a total of 7 is:0.1111111111111111\n"
     ]
    }
   ],
   "source": [
    "# p_A = 1/6   # dado A\n",
    "# p_B = 1/6   # dado B\n",
    "\n",
    "# posibilidaddes de salir un sumo de 7 (6 times)\n",
    "# 1+6 P(A)\n",
    "# 2+5\n",
    "# 3+4\n",
    "# 4+3\n",
    "# 5+2\n",
    "# 6+1\n",
    "\n",
    "# posibilidades de salir un sumo de 8\n",
    "# 2+6\n",
    "# 3+5\n",
    "# 4+4\n",
    "# 5+3\n",
    "# 6+2\n",
    "\n",
    "# posibilidades de salir un sumo de 9\n",
    "# 3+6\n",
    "# 4+5\n",
    "# 5+4\n",
    "# 6+3\n",
    "\n",
    "total_chances = 6*6\n",
    "\n",
    "chances_7 = 6/36\n",
    "chances_8 = 5/36\n",
    "chances_9 = 4/36\n",
    "\n",
    "print(f\"Possibility of getting a total of 7 is:{chances_7}\")\n",
    "print(f\"Possibility of getting a total of 7 is:{chances_8}\")\n",
    "print(f\"Possibility of getting a total of 7 is:{chances_9}\")"
   ]
  },
  {
   "cell_type": "code",
   "execution_count": 60,
   "metadata": {},
   "outputs": [
    {
     "data": {
      "text/plain": [
       "<function matplotlib.pyplot.show(close=None, block=None)>"
      ]
     },
     "execution_count": 60,
     "metadata": {},
     "output_type": "execute_result"
    },
    {
     "data": {
      "image/png": "[encoded data removed]",
      "text/plain": [
       "<Figure size 800x500 with 1 Axes>"
      ]
     },
     "metadata": {},
     "output_type": "display_data"
    }
   ],
   "source": [
    "import numpy as np\n",
    "import matplotlib.pyplot as plt\n",
    "\n",
    "# define sample times\n",
    "simulation = 10000\n",
    "\n",
    "# random dice number\n",
    "dice1 = np.random.randint(1, 7, simulation)\n",
    "dice2 = np.random.randint(1, 7, simulation)\n",
    "\n",
    "result = dice1 +dice2\n",
    "\n",
    "# plot the histogram\n",
    "plt.figure(figsize=(8,5))\n",
    "plt.hist(result, bins = np.arange(2, 13, 1), linewidth = 0.8, alpha = 0.75)\n",
    "plt.title(\"Distrbution of dice number sum\")\n",
    "plt.xlabel(\"Sum\")\n",
    "plt.ylabel(\"Frequecy\")\n",
    "plt.xticks(np.arange(2, 13, step = 1))\n",
    "plt.grid(axis=\"y\", alpha= 0.2)\n",
    "plt.show"
   ]
  }
 ],
 "metadata": {
  "kernelspec": {
   "display_name": "Python 3 (ipykernel)",
   "language": "python",
   "name": "python3"
  },
  "language_info": {
   "codemirror_mode": {
    "name": "ipython",
    "version": 3
   },
   "file_extension": ".py",
   "mimetype": "text/x-python",
   "name": "python",
   "nbconvert_exporter": "python",
   "pygments_lexer": "ipython3",
   "version": "3.12.3"
  },
  "toc": {
   "base_numbering": 1,
   "nav_menu": {},
   "number_sections": false,
   "sideBar": true,
   "skip_h1_title": false,
   "title_cell": "Table of Contents",
   "title_sidebar": "Contents",
   "toc_cell": false,
   "toc_position": {
    "height": "calc(100% - 180px)",
    "left": "10px",
    "top": "150px",
    "width": "296.475px"
   },
   "toc_section_display": true,
   "toc_window_display": false
  },
  "varInspector": {
   "cols": {
    "lenName": 16,
    "lenType": 16,
    "lenVar": 40
   },
   "kernels_config": {
    "python": {
     "delete_cmd_postfix": "",
     "delete_cmd_prefix": "del ",
     "library": "var_list.py",
     "varRefreshCmd": "print(var_dic_list())"
    },
    "r": {
     "delete_cmd_postfix": ") ",
     "delete_cmd_prefix": "rm(",
     "library": "var_list.r",
     "varRefreshCmd": "cat(var_dic_list()) "
    }
   },
   "types_to_exclude": [
    "module",
    "function",
    "builtin_function_or_method",
    "instance",
    "_Feature"
   ],
   "window_display": false
  }
 },
 "nbformat": 4,
 "nbformat_minor": 2
}
